{
 "cells": [
  {
   "cell_type": "markdown",
   "metadata": {},
   "source": [
    "# Numpy"
   ]
  },
  {
   "cell_type": "markdown",
   "metadata": {},
   "source": [
    "## List vs Numpy array"
   ]
  },
  {
   "cell_type": "code",
   "execution_count": 1,
   "metadata": {},
   "outputs": [],
   "source": [
    "import numpy as np"
   ]
  },
  {
   "cell_type": "markdown",
   "metadata": {},
   "source": [
    "### Defining List and Numpy array"
   ]
  },
  {
   "cell_type": "code",
   "execution_count": 13,
   "metadata": {},
   "outputs": [],
   "source": [
    "A = [1,2,3] ##list\n",
    "B = np.array([1,2,3]) ##numpy array"
   ]
  },
  {
   "cell_type": "code",
   "execution_count": 14,
   "metadata": {},
   "outputs": [
    {
     "name": "stdout",
     "output_type": "stream",
     "text": [
      "[1, 2, 3]\n",
      "[1 2 3]\n"
     ]
    }
   ],
   "source": [
    "print(A)\n",
    "print(B)"
   ]
  },
  {
   "cell_type": "markdown",
   "metadata": {},
   "source": [
    "### Looping over each element"
   ]
  },
  {
   "cell_type": "code",
   "execution_count": 15,
   "metadata": {},
   "outputs": [
    {
     "name": "stdout",
     "output_type": "stream",
     "text": [
      "1\n",
      "2\n",
      "3\n"
     ]
    }
   ],
   "source": [
    "##looping over list\n",
    "for i in A:\n",
    "    print(i)"
   ]
  },
  {
   "cell_type": "code",
   "execution_count": 16,
   "metadata": {},
   "outputs": [
    {
     "name": "stdout",
     "output_type": "stream",
     "text": [
      "1\n",
      "2\n",
      "3\n"
     ]
    }
   ],
   "source": [
    "##Looping over numpy array\n",
    "for i in B:\n",
    "    print(i)"
   ]
  },
  {
   "cell_type": "markdown",
   "metadata": {},
   "source": [
    "### Appending new element "
   ]
  },
  {
   "cell_type": "code",
   "execution_count": 17,
   "metadata": {},
   "outputs": [
    {
     "name": "stdout",
     "output_type": "stream",
     "text": [
      "[1, 2, 3, 4]\n"
     ]
    }
   ],
   "source": [
    "##Appending value in list\n",
    "A.append(4)\n",
    "print(A)\n"
   ]
  },
  {
   "cell_type": "code",
   "execution_count": 18,
   "metadata": {},
   "outputs": [
    {
     "name": "stdout",
     "output_type": "stream",
     "text": [
      "[1, 2, 3, 4, 5]\n"
     ]
    }
   ],
   "source": [
    "## Another way of adding a value into List\n",
    "A = A + [5]\n",
    "print(A)"
   ]
  },
  {
   "cell_type": "code",
   "execution_count": 22,
   "metadata": {},
   "outputs": [
    {
     "name": "stdout",
     "output_type": "stream",
     "text": [
      "[1 2 3 4 5]\n"
     ]
    }
   ],
   "source": [
    "##Appending value in numpy array\n",
    "B = np.append(B, [4,5])\n",
    "print(B)"
   ]
  },
  {
   "cell_type": "markdown",
   "metadata": {},
   "source": [
    "### Doubling each element"
   ]
  },
  {
   "cell_type": "code",
   "execution_count": 23,
   "metadata": {},
   "outputs": [
    {
     "data": {
      "text/plain": [
       "array([ 2,  4,  6,  8, 10])"
      ]
     },
     "execution_count": 23,
     "metadata": {},
     "output_type": "execute_result"
    }
   ],
   "source": [
    "#Plus sign with list concatenate the list but with numpy array it do an vector addition\n",
    "\n",
    "B + B\n",
    "\n",
    "## if you have a 2D array or Matrix it will do matrix addition"
   ]
  },
  {
   "cell_type": "code",
   "execution_count": 25,
   "metadata": {},
   "outputs": [
    {
     "name": "stdout",
     "output_type": "stream",
     "text": [
      "[2, 4, 6, 8, 10]\n"
     ]
    }
   ],
   "source": [
    "## For above type operation for list we have to perform this\n",
    "A2 = []\n",
    "for i in A:\n",
    "    A2.append(i + i)\n",
    "print(A2)"
   ]
  },
  {
   "cell_type": "code",
   "execution_count": 26,
   "metadata": {},
   "outputs": [
    {
     "name": "stdout",
     "output_type": "stream",
     "text": [
      "[ 2  4  6  8 10]\n"
     ]
    }
   ],
   "source": [
    "##getting 2 times a numpy array\n",
    "print(2* B)"
   ]
  },
  {
   "cell_type": "code",
   "execution_count": 27,
   "metadata": {},
   "outputs": [
    {
     "name": "stdout",
     "output_type": "stream",
     "text": [
      "[1, 2, 3, 4, 5, 1, 2, 3, 4, 5]\n"
     ]
    }
   ],
   "source": [
    "##But with list 2 times a list will make the list repeat the elements\n",
    "print(2*A)"
   ]
  },
  {
   "cell_type": "code",
   "execution_count": 28,
   "metadata": {},
   "outputs": [
    {
     "name": "stdout",
     "output_type": "stream",
     "text": [
      "[2, 4, 6, 8, 10]\n"
     ]
    }
   ],
   "source": [
    "## To get twice of each element in a list you have to loop each element and make them 2times\n",
    "\n",
    "A2 = []\n",
    "for i in A:\n",
    "    A2.append(2*i)\n",
    "print(A2)"
   ]
  },
  {
   "cell_type": "markdown",
   "metadata": {},
   "source": [
    "### Squaring each element "
   ]
  },
  {
   "cell_type": "code",
   "execution_count": 29,
   "metadata": {},
   "outputs": [
    {
     "ename": "TypeError",
     "evalue": "unsupported operand type(s) for ** or pow(): 'int' and 'list'",
     "output_type": "error",
     "traceback": [
      "\u001b[0;31m---------------------------------------------------------------------------\u001b[0m",
      "\u001b[0;31mTypeError\u001b[0m                                 Traceback (most recent call last)",
      "\u001b[0;32m<ipython-input-29-089ae855da3b>\u001b[0m in \u001b[0;36m<module>\u001b[0;34m()\u001b[0m\n\u001b[1;32m      1\u001b[0m \u001b[0;31m##Squaring each element\u001b[0m\u001b[0;34m\u001b[0m\u001b[0;34m\u001b[0m\u001b[0m\n\u001b[1;32m      2\u001b[0m \u001b[0;31m##List\u001b[0m\u001b[0;34m\u001b[0m\u001b[0;34m\u001b[0m\u001b[0m\n\u001b[0;32m----> 3\u001b[0;31m \u001b[0mprint\u001b[0m\u001b[0;34m(\u001b[0m\u001b[0;36m2\u001b[0m\u001b[0;34m**\u001b[0m\u001b[0mA\u001b[0m\u001b[0;34m)\u001b[0m\u001b[0;34m\u001b[0m\u001b[0m\n\u001b[0m\u001b[1;32m      4\u001b[0m \u001b[0;31m##line will give error\u001b[0m\u001b[0;34m\u001b[0m\u001b[0;34m\u001b[0m\u001b[0m\n",
      "\u001b[0;31mTypeError\u001b[0m: unsupported operand type(s) for ** or pow(): 'int' and 'list'"
     ]
    }
   ],
   "source": [
    "##Squaring each element \n",
    "##List\n",
    "print(2**A) \n",
    "##line will give error"
   ]
  },
  {
   "cell_type": "code",
   "execution_count": 30,
   "metadata": {},
   "outputs": [
    {
     "name": "stdout",
     "output_type": "stream",
     "text": [
      "[1, 4, 9, 16, 25]\n"
     ]
    }
   ],
   "source": [
    "##To perform squaring in list we have to loop over each element\n",
    "A2 = []\n",
    "for i in A:\n",
    "    A2.append(i*i)\n",
    "    \n",
    "print(A2)"
   ]
  },
  {
   "cell_type": "code",
   "execution_count": 31,
   "metadata": {},
   "outputs": [
    {
     "name": "stdout",
     "output_type": "stream",
     "text": [
      "[   1    4   27  256 3125]\n"
     ]
    }
   ],
   "source": [
    "##For numpy Array\n",
    "print(B**B)"
   ]
  },
  {
   "cell_type": "markdown",
   "metadata": {},
   "source": [
    "#### NOTE : Numpy array operations work element wise\n",
    "#### Few more operations"
   ]
  },
  {
   "cell_type": "code",
   "execution_count": 32,
   "metadata": {},
   "outputs": [
    {
     "data": {
      "text/plain": [
       "array([1.        , 1.41421356, 1.73205081, 2.        , 2.23606798])"
      ]
     },
     "execution_count": 32,
     "metadata": {},
     "output_type": "execute_result"
    }
   ],
   "source": [
    "np.sqrt(B)"
   ]
  },
  {
   "cell_type": "code",
   "execution_count": 33,
   "metadata": {},
   "outputs": [
    {
     "data": {
      "text/plain": [
       "array([0.        , 0.69314718, 1.09861229, 1.38629436, 1.60943791])"
      ]
     },
     "execution_count": 33,
     "metadata": {},
     "output_type": "execute_result"
    }
   ],
   "source": [
    "np.log(B)"
   ]
  },
  {
   "cell_type": "code",
   "execution_count": 34,
   "metadata": {},
   "outputs": [
    {
     "data": {
      "text/plain": [
       "array([  2.71828183,   7.3890561 ,  20.08553692,  54.59815003,\n",
       "       148.4131591 ])"
      ]
     },
     "execution_count": 34,
     "metadata": {},
     "output_type": "execute_result"
    }
   ],
   "source": [
    "np.exp(B)"
   ]
  },
  {
   "cell_type": "markdown",
   "metadata": {},
   "source": [
    "#### To perform above operations on list you have to loop over each element and perform operation and save into another list\n",
    "\n",
    "####  Conclusion : \n",
    "- To represent a vector numpy array is an more convienient option rather then list, as it is more easier to perform add, multiply, exponent and log operation on it.\n",
    "- You can treat list like an array and numpy array as vector.\n",
    "- To perform oprations on element in list you require to use for loops, which are slower operation."
   ]
  },
  {
   "cell_type": "markdown",
   "metadata": {},
   "source": [
    "## DOT Product\n",
    "\n",
    "- there are 2 definitions of dot product\n",
    "    - a.b = aTb (a transpose times b, here a and b both are vector or matrix)\n",
    "    - a.b = |a||b|cosø\n",
    "- the 2nd method is more difficult as compared to 1st one, infact 2nd method can be used to find the ø(theta, angle) between a and b."
   ]
  },
  {
   "cell_type": "code",
   "execution_count": 35,
   "metadata": {},
   "outputs": [],
   "source": [
    "A = np.array([1,2])\n",
    "B = np.array([2,1])"
   ]
  },
  {
   "cell_type": "code",
   "execution_count": 45,
   "metadata": {},
   "outputs": [
    {
     "name": "stdout",
     "output_type": "stream",
     "text": [
      "Method 1 =>  4\n",
      "Method 2 =>  4\n",
      "Method 3 =>  4\n"
     ]
    }
   ],
   "source": [
    "##there are several ways to perform the dot product between 2 vectors\n",
    "##Method1\n",
    "dot = 0\n",
    "for i, j in zip(A, B):\n",
    "    dot += i*j\n",
    "print(\"Method 1 => \", dot)\n",
    "\n",
    "##Method2\n",
    "print(\"Method 2 => \", np.sum(A*B))\n",
    "\n",
    "\n",
    "##Method3\n",
    "dot = np.dot(A, B)\n",
    "print(\"Method 3 => \",dot)\n",
    "\n"
   ]
  },
  {
   "cell_type": "code",
   "execution_count": 59,
   "metadata": {},
   "outputs": [
    {
     "name": "stdout",
     "output_type": "stream",
     "text": [
      "Method1 => \n",
      "0.7999999999999998\n",
      "0.6435011087932847\n",
      "Method2 => \n",
      "0.7999999999999998\n",
      "0.6435011087932847\n"
     ]
    }
   ],
   "source": [
    "## finding angel between 2 vectors\n",
    "##Method1 \n",
    "modA = np.sqrt(np.sum(A**A))\n",
    "modB = np.sqrt(np.sum(B*B))\n",
    "\n",
    "mod = modA * modB\n",
    "\n",
    "theta = np.dot(A,B) / mod\n",
    "print(\"Method1 => \")\n",
    "print(theta)\n",
    "print(np.arccos(theta))\n",
    "\n",
    "\n",
    "##Method2\n",
    "modA = np.linalg.norm(A)\n",
    "modB = np.linalg.norm(B)\n",
    "\n",
    "theta = np.dot(A, B) / (modA * modB)\n",
    "print(\"Method2 => \")\n",
    "print(theta)\n",
    "print(np.arccos(theta))"
   ]
  },
  {
   "cell_type": "markdown",
   "metadata": {},
   "source": [
    "## Matrices\n",
    "\n",
    "- Matrix can be formed using numpy array of numpy array\n",
    "- numpy has a matrix operation to create a matrix but we wont use it\n",
    "- We can conver a matrix to numpy array using np.array operation"
   ]
  },
  {
   "cell_type": "code",
   "execution_count": 70,
   "metadata": {},
   "outputs": [
    {
     "data": {
      "text/plain": [
       "array([[1, 2],\n",
       "       [3, 4]])"
      ]
     },
     "execution_count": 70,
     "metadata": {},
     "output_type": "execute_result"
    }
   ],
   "source": [
    "##creating an matrix\n",
    "M1 = np.array([[1,2], [3,4]])\n",
    "M1"
   ]
  },
  {
   "cell_type": "code",
   "execution_count": 69,
   "metadata": {},
   "outputs": [
    {
     "data": {
      "text/plain": [
       "[[1, 2], [3, 4]]"
      ]
     },
     "execution_count": 69,
     "metadata": {},
     "output_type": "execute_result"
    }
   ],
   "source": [
    "##creating matrix using 2D list\n",
    "M = [[1,2], [3,4]]\n",
    "M"
   ]
  },
  {
   "cell_type": "code",
   "execution_count": 65,
   "metadata": {},
   "outputs": [
    {
     "name": "stdout",
     "output_type": "stream",
     "text": [
      "3\n"
     ]
    }
   ],
   "source": [
    "##accessing elements\n",
    "print(M1[1][0]) #1st row 0th column"
   ]
  },
  {
   "cell_type": "code",
   "execution_count": 66,
   "metadata": {},
   "outputs": [
    {
     "name": "stdout",
     "output_type": "stream",
     "text": [
      "3\n"
     ]
    }
   ],
   "source": [
    "##another way of accessing elements\n",
    "print(M1[1,0])"
   ]
  },
  {
   "cell_type": "code",
   "execution_count": 68,
   "metadata": {},
   "outputs": [
    {
     "data": {
      "text/plain": [
       "matrix([[1, 2],\n",
       "        [3, 4]])"
      ]
     },
     "execution_count": 68,
     "metadata": {},
     "output_type": "execute_result"
    }
   ],
   "source": [
    "##creating matrix using matrix operation\n",
    "M2 = np.matrix([[1,2], [3,4]])\n",
    "M2"
   ]
  },
  {
   "cell_type": "code",
   "execution_count": 71,
   "metadata": {},
   "outputs": [
    {
     "data": {
      "text/plain": [
       "array([[1, 2],\n",
       "       [3, 4]])"
      ]
     },
     "execution_count": 71,
     "metadata": {},
     "output_type": "execute_result"
    }
   ],
   "source": [
    "##converting a matrix into numpy array\n",
    "M2 = np.array(M2)\n",
    "\n",
    "M2"
   ]
  },
  {
   "cell_type": "code",
   "execution_count": 74,
   "metadata": {},
   "outputs": [
    {
     "name": "stdout",
     "output_type": "stream",
     "text": [
      "[[1 3]\n",
      " [2 4]]\n",
      "[[1 3]\n",
      " [2 4]]\n"
     ]
    }
   ],
   "source": [
    "##Matrix operations\n",
    "print(np.transpose(M1))\n",
    "\n",
    "print(M1.T)"
   ]
  },
  {
   "cell_type": "markdown",
   "metadata": {},
   "source": [
    "## Genarating Matrix and vectors"
   ]
  },
  {
   "cell_type": "code",
   "execution_count": 76,
   "metadata": {},
   "outputs": [
    {
     "name": "stdout",
     "output_type": "stream",
     "text": [
      "[1. 1. 1. 1. 1. 1. 1. 1. 1. 1.]\n",
      "[0. 0. 0. 0. 0. 0. 0. 0. 0. 0.]\n"
     ]
    }
   ],
   "source": [
    "## vector of 0 and 1\n",
    "##this will generate vector of all 1's of size 10\n",
    "A = np.ones(10)\n",
    "print(A)\n",
    "\n",
    "##this will generate vector of all 0's of size 10\n",
    "B = np.zeros(10)\n",
    "print(B)"
   ]
  },
  {
   "cell_type": "code",
   "execution_count": 78,
   "metadata": {},
   "outputs": [
    {
     "data": {
      "text/plain": [
       "array([[0., 0., 0., 0., 0., 0., 0., 0., 0., 0.],\n",
       "       [0., 0., 0., 0., 0., 0., 0., 0., 0., 0.],\n",
       "       [0., 0., 0., 0., 0., 0., 0., 0., 0., 0.],\n",
       "       [0., 0., 0., 0., 0., 0., 0., 0., 0., 0.],\n",
       "       [0., 0., 0., 0., 0., 0., 0., 0., 0., 0.],\n",
       "       [0., 0., 0., 0., 0., 0., 0., 0., 0., 0.],\n",
       "       [0., 0., 0., 0., 0., 0., 0., 0., 0., 0.],\n",
       "       [0., 0., 0., 0., 0., 0., 0., 0., 0., 0.],\n",
       "       [0., 0., 0., 0., 0., 0., 0., 0., 0., 0.],\n",
       "       [0., 0., 0., 0., 0., 0., 0., 0., 0., 0.]])"
      ]
     },
     "execution_count": 78,
     "metadata": {},
     "output_type": "execute_result"
    }
   ],
   "source": [
    "##Matrices\n",
    "M = np.zeros((10,10))\n",
    "M"
   ]
  },
  {
   "cell_type": "code",
   "execution_count": 80,
   "metadata": {},
   "outputs": [
    {
     "data": {
      "text/plain": [
       "array([[1., 1., 1., 1., 1., 1., 1., 1., 1., 1.],\n",
       "       [1., 1., 1., 1., 1., 1., 1., 1., 1., 1.],\n",
       "       [1., 1., 1., 1., 1., 1., 1., 1., 1., 1.],\n",
       "       [1., 1., 1., 1., 1., 1., 1., 1., 1., 1.],\n",
       "       [1., 1., 1., 1., 1., 1., 1., 1., 1., 1.],\n",
       "       [1., 1., 1., 1., 1., 1., 1., 1., 1., 1.],\n",
       "       [1., 1., 1., 1., 1., 1., 1., 1., 1., 1.],\n",
       "       [1., 1., 1., 1., 1., 1., 1., 1., 1., 1.],\n",
       "       [1., 1., 1., 1., 1., 1., 1., 1., 1., 1.],\n",
       "       [1., 1., 1., 1., 1., 1., 1., 1., 1., 1.]])"
      ]
     },
     "execution_count": 80,
     "metadata": {},
     "output_type": "execute_result"
    }
   ],
   "source": [
    "M = np.ones((10, 10))\n",
    "M"
   ]
  },
  {
   "cell_type": "code",
   "execution_count": 88,
   "metadata": {},
   "outputs": [
    {
     "data": {
      "text/plain": [
       "array([[0.08613534, 0.26985051, 0.35370535, 0.9853227 , 0.04018894,\n",
       "        0.35056624, 0.22517978, 0.44937316, 0.71175703, 0.99460139],\n",
       "       [0.80227954, 0.2525668 , 0.40066768, 0.86489904, 0.11801122,\n",
       "        0.98205921, 0.06070597, 0.76745763, 0.38414116, 0.44040827],\n",
       "       [0.24417607, 0.48720281, 0.59852066, 0.87415166, 0.87121408,\n",
       "        0.92211572, 0.04586749, 0.21485213, 0.52174733, 0.79486751],\n",
       "       [0.61356403, 0.1140426 , 0.29678057, 0.78407682, 0.33134033,\n",
       "        0.91272754, 0.10445697, 0.3302753 , 0.79955591, 0.96526271],\n",
       "       [0.15334611, 0.50435232, 0.64076122, 0.42626486, 0.40980219,\n",
       "        0.18235856, 0.44322435, 0.49490305, 0.02032824, 0.99577619],\n",
       "       [0.17444795, 0.36414006, 0.26594688, 0.07245327, 0.9836244 ,\n",
       "        0.18461616, 0.67388615, 0.70523839, 0.48866194, 0.8794136 ],\n",
       "       [0.68601082, 0.52215227, 0.65254767, 0.05518752, 0.89095917,\n",
       "        0.65504664, 0.12141208, 0.89695525, 0.87842143, 0.420304  ],\n",
       "       [0.42100055, 0.81961605, 0.28626957, 0.00645602, 0.03379396,\n",
       "        0.54955179, 0.42831357, 0.68118452, 0.01019301, 0.78753527],\n",
       "       [0.48827295, 0.72501294, 0.38624546, 0.53298273, 0.95299561,\n",
       "        0.50588984, 0.64138582, 0.52461686, 0.24192653, 0.2226367 ],\n",
       "       [0.17383856, 0.06565285, 0.0749617 , 0.03173213, 0.53406911,\n",
       "        0.13690426, 0.07291988, 0.34641221, 0.14505616, 0.84071447]])"
      ]
     },
     "execution_count": 88,
     "metadata": {},
     "output_type": "execute_result"
    }
   ],
   "source": [
    "##matrix with random values\n",
    "R = np.random.random((10, 10))\n",
    "R\n",
    "\n",
    "##random numbers will be between 0 and 1"
   ]
  },
  {
   "cell_type": "code",
   "execution_count": 87,
   "metadata": {},
   "outputs": [
    {
     "data": {
      "text/plain": [
       "array([[ 0.32718309, -0.2081856 ,  0.57678789,  0.49807054,  0.84059642,\n",
       "         0.25335287, -2.10268592,  0.41681004, -0.011559  ,  0.6869594 ],\n",
       "       [-0.89422203,  0.25250219,  1.05223165,  0.13563841,  0.31531557,\n",
       "        -0.95925635,  1.60797028, -0.95603827, -0.31443736, -0.59643413],\n",
       "       [-0.32863802,  1.00438238,  0.62091148, -0.04960114, -0.64434526,\n",
       "         0.95151997,  1.05842801, -0.56886703, -0.15357229, -1.15424458],\n",
       "       [ 0.13429364,  2.2725811 ,  0.15295362, -0.24158867,  0.10736024,\n",
       "        -0.51573546, -0.96485928, -1.05179397, -0.18852885,  0.12828546],\n",
       "       [-0.88528731, -1.15671247,  0.75646955, -0.7973901 , -0.06328702,\n",
       "        -0.35377997,  0.0242147 ,  0.98779088, -0.03114168, -0.3017435 ],\n",
       "       [-0.0260194 ,  1.02546163, -1.37109074, -1.73776309, -0.51748273,\n",
       "        -1.5429753 , -1.04964728,  0.83976   , -0.00928976,  1.68426911],\n",
       "       [-0.66881922, -0.49205554, -0.7218217 ,  1.05150395, -0.02648634,\n",
       "         0.47831003, -0.58722744, -1.21007536,  0.42733847,  0.28182542],\n",
       "       [ 0.15907638, -0.94456521,  0.04694475, -1.11024503,  0.2682811 ,\n",
       "        -1.09356202,  0.37731915,  1.30540691,  0.50156143,  0.92676637],\n",
       "       [ 0.98595054, -0.4677852 ,  0.01466964,  1.03003897,  1.20965807,\n",
       "        -1.21719284,  1.24226006, -1.25912818, -1.20395391, -1.02525574],\n",
       "       [ 0.874487  , -0.32054371,  1.43256682, -1.69769054, -0.00711687,\n",
       "        -1.03435477, -0.36950623, -0.50261249, -0.16599465,  0.21929975]])"
      ]
     },
     "execution_count": 87,
     "metadata": {},
     "output_type": "execute_result"
    }
   ],
   "source": [
    "## Matrix with random gaussian distributed number\n",
    "G = np.random.randn(10,10)\n",
    "G"
   ]
  },
  {
   "cell_type": "code",
   "execution_count": 94,
   "metadata": {},
   "outputs": [
    {
     "name": "stdout",
     "output_type": "stream",
     "text": [
      "[[0.08613534 0.80227954 0.24417607 0.61356403 0.15334611 0.17444795\n",
      "  0.68601082 0.42100055 0.48827295 0.17383856]\n",
      " [0.26985051 0.2525668  0.48720281 0.1140426  0.50435232 0.36414006\n",
      "  0.52215227 0.81961605 0.72501294 0.06565285]\n",
      " [0.35370535 0.40066768 0.59852066 0.29678057 0.64076122 0.26594688\n",
      "  0.65254767 0.28626957 0.38624546 0.0749617 ]\n",
      " [0.9853227  0.86489904 0.87415166 0.78407682 0.42626486 0.07245327\n",
      "  0.05518752 0.00645602 0.53298273 0.03173213]\n",
      " [0.04018894 0.11801122 0.87121408 0.33134033 0.40980219 0.9836244\n",
      "  0.89095917 0.03379396 0.95299561 0.53406911]\n",
      " [0.35056624 0.98205921 0.92211572 0.91272754 0.18235856 0.18461616\n",
      "  0.65504664 0.54955179 0.50588984 0.13690426]\n",
      " [0.22517978 0.06070597 0.04586749 0.10445697 0.44322435 0.67388615\n",
      "  0.12141208 0.42831357 0.64138582 0.07291988]\n",
      " [0.44937316 0.76745763 0.21485213 0.3302753  0.49490305 0.70523839\n",
      "  0.89695525 0.68118452 0.52461686 0.34641221]\n",
      " [0.71175703 0.38414116 0.52174733 0.79955591 0.02032824 0.48866194\n",
      "  0.87842143 0.01019301 0.24192653 0.14505616]\n",
      " [0.99460139 0.44040827 0.79486751 0.96526271 0.99577619 0.8794136\n",
      "  0.420304   0.78753527 0.2226367  0.84071447]]\n",
      "0.4687735900019954\n",
      "0.30063200665276546\n",
      "0.09037960342406841\n"
     ]
    }
   ],
   "source": [
    "print(R.T) ##transpose\n",
    "print(R.mean()) ##mean\n",
    "print(R.std()) ##standard distribution\n",
    "print(R.var()) ##variance"
   ]
  },
  {
   "cell_type": "markdown",
   "metadata": {},
   "source": [
    "## Matrix Product\n",
    "\n",
    "- the dimesnsions of 2 matrix should match\n",
    "- the inner dimensions of the matrix should be same \n",
    "- For multiplication we use dot product of Row of matrix1 with Column of matrix2\n",
    "- A(i,:).dot(B(:, j))"
   ]
  },
  {
   "cell_type": "markdown",
   "metadata": {},
   "source": [
    "## Matrix Operations with Numpy"
   ]
  },
  {
   "cell_type": "code",
   "execution_count": 96,
   "metadata": {},
   "outputs": [],
   "source": [
    "A = np.array([[1,2], [3,4]])"
   ]
  },
  {
   "cell_type": "code",
   "execution_count": 98,
   "metadata": {},
   "outputs": [
    {
     "data": {
      "text/plain": [
       "array([[-2. ,  1. ],\n",
       "       [ 1.5, -0.5]])"
      ]
     },
     "execution_count": 98,
     "metadata": {},
     "output_type": "execute_result"
    }
   ],
   "source": [
    "##inverse of a vector\n",
    "invA = np.linalg.inv(A)\n",
    "invA"
   ]
  },
  {
   "cell_type": "code",
   "execution_count": 103,
   "metadata": {},
   "outputs": [
    {
     "data": {
      "text/plain": [
       "array([[1.0000000e+00, 0.0000000e+00],\n",
       "       [8.8817842e-16, 1.0000000e+00]])"
      ]
     },
     "execution_count": 103,
     "metadata": {},
     "output_type": "execute_result"
    }
   ],
   "source": [
    "##checking of inverse is calculated correctly\n",
    "np.dot(A, invA)\n",
    "\n",
    "##this should give identity matrix"
   ]
  },
  {
   "cell_type": "code",
   "execution_count": 104,
   "metadata": {},
   "outputs": [
    {
     "data": {
      "text/plain": [
       "-2.0000000000000004"
      ]
     },
     "execution_count": 104,
     "metadata": {},
     "output_type": "execute_result"
    }
   ],
   "source": [
    "##determinent of Matrix\n",
    "np.linalg.det(A)"
   ]
  },
  {
   "cell_type": "code",
   "execution_count": 105,
   "metadata": {},
   "outputs": [
    {
     "data": {
      "text/plain": [
       "array([1, 4])"
      ]
     },
     "execution_count": 105,
     "metadata": {},
     "output_type": "execute_result"
    }
   ],
   "source": [
    "##diagonal of matrix\n",
    "np.diag(A)"
   ]
  },
  {
   "cell_type": "code",
   "execution_count": 106,
   "metadata": {},
   "outputs": [
    {
     "data": {
      "text/plain": [
       "array([[1, 0],\n",
       "       [0, 2]])"
      ]
     },
     "execution_count": 106,
     "metadata": {},
     "output_type": "execute_result"
    }
   ],
   "source": [
    "##creating matrix using the diagonal vector\n",
    "np.diag([1,2])"
   ]
  },
  {
   "cell_type": "code",
   "execution_count": 107,
   "metadata": {},
   "outputs": [
    {
     "data": {
      "text/plain": [
       "array([[1, 0, 0],\n",
       "       [0, 2, 0],\n",
       "       [0, 0, 4]])"
      ]
     },
     "execution_count": 107,
     "metadata": {},
     "output_type": "execute_result"
    }
   ],
   "source": [
    "##if you pass 2D array you will 2,2 matrix, if you pass 3D array you will get 3,3 matrix\n",
    "np.diag([1,2,4])"
   ]
  },
  {
   "cell_type": "code",
   "execution_count": 109,
   "metadata": {},
   "outputs": [
    {
     "data": {
      "text/plain": [
       "5"
      ]
     },
     "execution_count": 109,
     "metadata": {},
     "output_type": "execute_result"
    }
   ],
   "source": [
    "##trace of matrix, sum of diagnols of matrix\n",
    "np.diag(A).sum()"
   ]
  },
  {
   "cell_type": "code",
   "execution_count": 110,
   "metadata": {},
   "outputs": [
    {
     "data": {
      "text/plain": [
       "5"
      ]
     },
     "execution_count": 110,
     "metadata": {},
     "output_type": "execute_result"
    }
   ],
   "source": [
    "np.trace(A)"
   ]
  },
  {
   "cell_type": "code",
   "execution_count": 114,
   "metadata": {},
   "outputs": [
    {
     "name": "stdout",
     "output_type": "stream",
     "text": [
      "(100, 3)\n"
     ]
    }
   ],
   "source": [
    "##eigenvalues and eigenvectors\n",
    "A = np.random.randn(100,3)\n",
    "print(A.shape)"
   ]
  },
  {
   "cell_type": "code",
   "execution_count": 122,
   "metadata": {},
   "outputs": [],
   "source": [
    "cov = np.cov(A.T)"
   ]
  },
  {
   "cell_type": "code",
   "execution_count": 123,
   "metadata": {},
   "outputs": [
    {
     "data": {
      "text/plain": [
       "(array([0.8260182 , 0.99297028, 1.18500435]),\n",
       " array([[-0.26372467, -0.6795519 , -0.68458638],\n",
       "        [ 0.90408636,  0.07327644, -0.42102068],\n",
       "        [ 0.33626946, -0.72995875,  0.5950488 ]]))"
      ]
     },
     "execution_count": 123,
     "metadata": {},
     "output_type": "execute_result"
    }
   ],
   "source": [
    "np.linalg.eigh(cov)"
   ]
  },
  {
   "cell_type": "code",
   "execution_count": 125,
   "metadata": {},
   "outputs": [
    {
     "data": {
      "text/plain": [
       "(array([1.18500435, 0.99297028, 0.8260182 ]),\n",
       " array([[-0.68458638, -0.6795519 , -0.26372467],\n",
       "        [-0.42102068,  0.07327644,  0.90408636],\n",
       "        [ 0.5950488 , -0.72995875,  0.33626946]]))"
      ]
     },
     "execution_count": 125,
     "metadata": {},
     "output_type": "execute_result"
    }
   ],
   "source": [
    "np.linalg.eig(cov)"
   ]
  },
  {
   "cell_type": "markdown",
   "metadata": {},
   "source": [
    "## Solving a linear equation"
   ]
  },
  {
   "cell_type": "code",
   "execution_count": 128,
   "metadata": {},
   "outputs": [],
   "source": [
    "A = np.array([[1,2], [3,4]])\n",
    "b = np.array([1,2])"
   ]
  },
  {
   "cell_type": "code",
   "execution_count": 130,
   "metadata": {},
   "outputs": [
    {
     "data": {
      "text/plain": [
       "array([0. , 0.5])"
      ]
     },
     "execution_count": 130,
     "metadata": {},
     "output_type": "execute_result"
    }
   ],
   "source": [
    "x = np.dot(np.linalg.inv(A), b)\n",
    "x"
   ]
  },
  {
   "cell_type": "code",
   "execution_count": 131,
   "metadata": {},
   "outputs": [
    {
     "data": {
      "text/plain": [
       "array([0. , 0.5])"
      ]
     },
     "execution_count": 131,
     "metadata": {},
     "output_type": "execute_result"
    }
   ],
   "source": [
    "x = np.linalg.solve(A, b)\n",
    "x"
   ]
  },
  {
   "cell_type": "markdown",
   "metadata": {},
   "source": [
    "## Sample Problem\n",
    "\n",
    "- X1 + X2 = 2200\n",
    "- 1.5*X1 + 4*X2 = 5050\n",
    "- Solve for X1 and X2\n",
    "- Linear equation in terms of matrix\n",
    "    - Matrix [[1,1], [1.5, 4]] * [X1, X2] = [2200, 5050]"
   ]
  },
  {
   "cell_type": "code",
   "execution_count": 136,
   "metadata": {},
   "outputs": [],
   "source": [
    "A = np.array([[1,1], [1.5, 4]])\n",
    "b = np.array([2200, 5050])"
   ]
  },
  {
   "cell_type": "code",
   "execution_count": 138,
   "metadata": {},
   "outputs": [
    {
     "data": {
      "text/plain": [
       "array([1500.,  700.])"
      ]
     },
     "execution_count": 138,
     "metadata": {},
     "output_type": "execute_result"
    }
   ],
   "source": [
    "x = np.linalg.inv(A).dot(b)\n",
    "x"
   ]
  },
  {
   "cell_type": "code",
   "execution_count": 139,
   "metadata": {},
   "outputs": [
    {
     "data": {
      "text/plain": [
       "array([1500.,  700.])"
      ]
     },
     "execution_count": 139,
     "metadata": {},
     "output_type": "execute_result"
    }
   ],
   "source": [
    "##Alternatively we can solve like:\n",
    "\n",
    "x = np.linalg.solve(A, b)\n",
    "x"
   ]
  },
  {
   "cell_type": "code",
   "execution_count": null,
   "metadata": {},
   "outputs": [],
   "source": []
  }
 ],
 "metadata": {
  "kernelspec": {
   "display_name": "Python 3",
   "language": "python",
   "name": "python3"
  },
  "language_info": {
   "codemirror_mode": {
    "name": "ipython",
    "version": 3
   },
   "file_extension": ".py",
   "mimetype": "text/x-python",
   "name": "python",
   "nbconvert_exporter": "python",
   "pygments_lexer": "ipython3",
   "version": "3.6.5"
  }
 },
 "nbformat": 4,
 "nbformat_minor": 2
}
